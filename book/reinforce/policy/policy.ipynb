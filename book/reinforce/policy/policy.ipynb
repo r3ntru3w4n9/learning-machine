{
 "cells": [
  {
   "cell_type": "markdown",
   "metadata": {},
   "source": [
    "# Policy"
   ]
  },
  {
   "cell_type": "markdown",
   "metadata": {},
   "source": [
    "## Policy in RL.\n",
    "\n",
    "An agent makes a decision according to its **policy**. For humans, brain is our policy because it observes what environment we are in (in a swimming pool!) and what actions we will react accordingly (swim)."
   ]
  },
  {
   "cell_type": "markdown",
   "metadata": {},
   "source": [
    "```{warning}\n",
    "Incoming math!\n",
    "```"
   ]
  },
  {
   "cell_type": "markdown",
   "metadata": {},
   "source": [
    "Formally, policy $ \\pi $ is a function that takes in the state $ s $, and outputs an action $ a $, which the agent takes and arrive at a new state $ s' $."
   ]
  },
  {
   "cell_type": "markdown",
   "metadata": {},
   "source": [
    "## Are policies the same thing as agents?\n",
    "\n",
    "Agents are different from policies. An agent acts according a policy, which can be shared between agents. For example, in a futuristic world, you can control clones of your body. You have multiple bodies, but only a single brain. In such a case, the brain is the policy, and the agents are your bodies."
   ]
  }
 ],
 "metadata": {
  "kernelspec": {
   "display_name": "Python 3",
   "language": "python",
   "name": "python3"
  },
  "language_info": {
   "codemirror_mode": {
    "name": "ipython",
    "version": 3
   },
   "file_extension": ".py",
   "mimetype": "text/x-python",
   "name": "python",
   "nbconvert_exporter": "python",
   "pygments_lexer": "ipython3",
   "version": "3.9.6"
  }
 },
 "nbformat": 4,
 "nbformat_minor": 2
}
