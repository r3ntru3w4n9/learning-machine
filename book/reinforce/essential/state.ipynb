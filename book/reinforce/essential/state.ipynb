{
 "cells": [
  {
   "cell_type": "markdown",
   "source": [
    "# State"
   ],
   "metadata": {}
  },
  {
   "cell_type": "markdown",
   "source": [
    "## What state are you in?\n",
    "\n",
    "States are used to describe the conditions of a thing. In other words, if the state of an object is given, you can tell everything that you care about it. For example, for a ball, you may only care about its position and its velocity. But for a knife, you would also want to know where the blade faces in order to know if it's going to hurt you. That is, the position and velocity is a ball's state, while the state of a knife may be an additional info stored in state."
   ],
   "metadata": {}
  },
  {
   "cell_type": "markdown",
   "source": [
    "## State in deep learning.\n",
    "\n",
    "In deep learning, everything is modelled by a set of numbers (tensors). States are no exception. A state is often observed by a model as a tensor, and we call this tensor observation."
   ],
   "metadata": {}
  }
 ],
 "metadata": {
  "orig_nbformat": 4,
  "language_info": {
   "name": "python"
  }
 },
 "nbformat": 4,
 "nbformat_minor": 2
}