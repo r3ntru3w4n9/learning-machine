{
 "cells": [
  {
   "cell_type": "markdown",
   "metadata": {},
   "source": [
    "# Agent"
   ]
  },
  {
   "cell_type": "markdown",
   "metadata": {},
   "source": [
    "## Agent, is that you?\n",
    "\n",
    "Anything is an agent in RL settings. An agent make things happen around it, and make changes to the environment. You have a big carbon footprint? You're changing the earth, so even you are an agent in RL's world!"
   ]
  },
  {
   "cell_type": "markdown",
   "metadata": {},
   "source": [
    "## Agent in deep learning.\n",
    "\n",
    "An agent in deep learning is nothing different from a model. We've learnt many different models, and they can all be an agent if we apply the correct RL setting. For example, the cat/dog classifier. If we design the algorithm such that the cat/dog classifier prints 'cat' when a cat is found, and 'dog' when a dog is seen, it is changing the computer's state (its environment)!\n",
    "\n",
    "However, usually we choose a classifier for environments where only a few actions are allowed (like key pressing), and regressive models for tasks where any action can be selected (like steering a wheel)."
   ]
  }
 ],
 "metadata": {
  "kernelspec": {
   "display_name": "Python 3",
   "language": "python",
   "name": "python3"
  },
  "language_info": {
   "codemirror_mode": {
    "name": "ipython",
    "version": 3
   },
   "file_extension": ".py",
   "mimetype": "text/x-python",
   "name": "python",
   "nbconvert_exporter": "python",
   "pygments_lexer": "ipython3",
   "version": "3.9.6"
  }
 },
 "nbformat": 4,
 "nbformat_minor": 2
}
