{
 "cells": [
  {
   "cell_type": "markdown",
   "source": [
    "# Agent"
   ],
   "metadata": {}
  },
  {
   "cell_type": "markdown",
   "source": [
    "## Agent, is that you?\n",
    "\n",
    "Anything is an agent in RL settings. An agent make things happen around it, and make changes to the environment. You have a big carbon footprint? You're changing the earth, so even you are an agent in RL's world!"
   ],
   "metadata": {}
  },
  {
   "cell_type": "markdown",
   "source": [
    "## Agent in deep learning.\n",
    "\n",
    "An agent in deep learning is nothing different from a model. We've learnt many different models, and they can all be an agent if we apply the correct RL setting. For example, the cat/dog classifier. If we design the algorithm such that the cat/dog classifier prints 'cat' when a cat is found, and 'dog' when a dog is seen, it is changing the computer's state (its environment)!\n",
    "\n",
    "However, usually we choose a classifier for environments where only a few actions are allowed (like key pressing), and regressive models for tasks where any action can be selected (like steering a wheel)."
   ],
   "metadata": {}
  }
 ],
 "metadata": {
  "orig_nbformat": 4,
  "language_info": {
   "name": "python"
  }
 },
 "nbformat": 4,
 "nbformat_minor": 2
}