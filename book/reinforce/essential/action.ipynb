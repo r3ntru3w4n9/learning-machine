{
 "cells": [
  {
   "cell_type": "markdown",
   "source": [
    "# Action"
   ],
   "metadata": {}
  },
  {
   "cell_type": "markdown",
   "source": [
    "## Do actions speak louder than words?\n",
    "\n",
    "Yes. Actions are taken to change the world around us, while words don't always do that. In RL's world, an action is used to change the environment, also known as move between different states. It's also possible that after an action is taken, the state is transitioned into itself."
   ],
   "metadata": {}
  },
  {
   "cell_type": "markdown",
   "source": [
    "## Action in deep learning.\n",
    "\n",
    "Action is usually the output of the agent (that is modelled by a deep learning function). If the function is a classifier, then the action would be an integer showing which action to take. If the function is a regression model, then the action is merely the value of the output. Really, what an action is depends on how it is used, and anything can be considered an action so long as it makes the state change to a new one."
   ],
   "metadata": {}
  }
 ],
 "metadata": {
  "orig_nbformat": 4,
  "language_info": {
   "name": "python"
  }
 },
 "nbformat": 4,
 "nbformat_minor": 2
}