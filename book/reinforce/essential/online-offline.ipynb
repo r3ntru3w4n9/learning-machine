{
 "cells": [
  {
   "cell_type": "markdown",
   "id": "b66a254c",
   "metadata": {},
   "source": [
    "# Online Methods vs Offline Methods"
   ]
  },
  {
   "cell_type": "markdown",
   "id": "77954a20",
   "metadata": {},
   "source": [
    "## Online methods.\n",
    "\n",
    "In RL, online methods refer to methods updating the model while interacting with the environment.\n",
    "\n",
    "**Pro**\n",
    "- Mathematically easy because most RL theories consider this method.\n",
    "- Is usually much simpler than offline methods.\n",
    "- Online methods are more stable.\n",
    "\n",
    "**Con**\n",
    "- Very data inefficient because each observation/state can be used once."
   ]
  },
  {
   "cell_type": "markdown",
   "id": "ecb8cb51",
   "metadata": {},
   "source": [
    "## Offline methods.\n",
    "\n",
    "In RL, offline methods refer to methods updating the model after having interacted with the environment.\n",
    "\n",
    "**Pro**\n",
    "- Data efficient, the same trajectory (history data) can be used for many updates.\n",
    "\n",
    "**Con**\n",
    "- Mathematically difficult because most RL theories are based on online methods.\n",
    "- Is usually more complicated because it involves storing histories, re-weighting different history entries, and discarding old entries.\n",
    "- Offline methods are less stable."
   ]
  }
 ],
 "metadata": {
  "kernelspec": {
   "display_name": "Python 3 (ipykernel)",
   "language": "python",
   "name": "python3"
  },
  "language_info": {
   "codemirror_mode": {
    "name": "ipython",
    "version": 3
   },
   "file_extension": ".py",
   "mimetype": "text/x-python",
   "name": "python",
   "nbconvert_exporter": "python",
   "pygments_lexer": "ipython3",
   "version": "3.9.5"
  }
 },
 "nbformat": 4,
 "nbformat_minor": 5
}
