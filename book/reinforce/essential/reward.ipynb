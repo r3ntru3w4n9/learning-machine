{
 "cells": [
  {
   "cell_type": "markdown",
   "source": [
    "# Reward"
   ],
   "metadata": {}
  },
  {
   "cell_type": "markdown",
   "source": [
    "## Rewards are for?\n",
    "\n",
    "Rewards are for good actions. Good actions in RL get more reward. Rewards are used in updating the agent such that the agent tries to take actions that yields more rewards in the future."
   ],
   "metadata": {}
  },
  {
   "cell_type": "markdown",
   "source": [
    "## Rewards in deep learning.\n",
    "\n",
    "Rewards in deep learning is still a scalar number. It is used in the loss function to update the model. On thing worth notice is: The bigger the reward, the better. However, losses should be as minimal as possible. So a common way to do that is to set $ loss = - reward $. This way, minimizing losses is equal to maximizing rewards."
   ],
   "metadata": {}
  }
 ],
 "metadata": {
  "orig_nbformat": 4,
  "language_info": {
   "name": "python"
  }
 },
 "nbformat": 4,
 "nbformat_minor": 2
}