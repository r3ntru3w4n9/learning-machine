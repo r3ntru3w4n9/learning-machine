{
 "cells": [
  {
   "cell_type": "markdown",
   "id": "d1f2392d",
   "metadata": {},
   "source": [
    "# Decision Tree"
   ]
  },
  {
   "cell_type": "markdown",
   "id": "a68e4bdf",
   "metadata": {},
   "source": [
    "## How to make a decision?\n",
    "\n",
    "Naturally, people make decisions based on a set of rules. If the sky looks gloomy, it's likely going to rain so taking the umbrella would be a nice idea. Decision tree is based on that idea. A good decision tree separate things into several groups, based on some features, and hopefully it could be able to understand each and every data."
   ]
  },
  {
   "cell_type": "markdown",
   "id": "74b5ab9e",
   "metadata": {},
   "source": [
    "## How do decision trees work?\n",
    "\n",
    "A good decision should tell you a lot of things. Decision trees are based on that idea. Decision trees assume that each class given to it is distinct, and it should be relatively easy to distinguish between each and every class. That is, it has to differentiate between every two cases, with as few decisions as possible.\n",
    "\n",
    "A decision tree works by maximizing the information obtained by a split. You don't need to know what that means yet, but in simple words, it splits the group as evenly as possible. That way, it can reach every base case fast, and it makes the decision tree more balanced (more even)."
   ]
  }
 ],
 "metadata": {
  "kernelspec": {
   "display_name": "Python 3",
   "language": "python",
   "name": "python3"
  },
  "language_info": {
   "codemirror_mode": {
    "name": "ipython",
    "version": 3
   },
   "file_extension": ".py",
   "mimetype": "text/x-python",
   "name": "python",
   "nbconvert_exporter": "python",
   "pygments_lexer": "ipython3",
   "version": "3.9.5"
  }
 },
 "nbformat": 4,
 "nbformat_minor": 5
}
