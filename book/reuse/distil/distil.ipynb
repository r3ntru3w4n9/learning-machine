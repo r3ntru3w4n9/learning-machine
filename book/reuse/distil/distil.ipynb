{
 "cells": [
  {
   "cell_type": "markdown",
   "metadata": {},
   "source": [
    "# Knowledge Distillation"
   ]
  },
  {
   "cell_type": "markdown",
   "metadata": {},
   "source": [
    "```{note}\n",
    "We will use the abbreviation of knowledge distilation, KD, in this chapter.\n",
    "```"
   ]
  },
  {
   "cell_type": "markdown",
   "metadata": {},
   "source": [
    "## What is KD, and do we need it?\n",
    "\n",
    "KD refers to the transferring the knowledge of a model into another model. It is mainly used in transferring the knowledge of a big model with billions of parameters into a smaller model that's small enough to deploy on edge devices. The small model is encouraged to perform exactly the same as the bigger model by replicating the bigger model's output, all while being more efficient."
   ]
  },
  {
   "cell_type": "markdown",
   "metadata": {},
   "source": [
    "## Why don't we train a model from scratch?\n",
    "\n",
    "We could, of course, train a smaller model from scratch. However, bigger models have tendencies to do a better job in searching a better solution than smaller ones, and trying to replicate bigger models tends to perform better than training a smaller model from scratch, which often stuck in local optimum points."
   ]
  },
  {
   "cell_type": "markdown",
   "metadata": {},
   "source": [
    "## The training flow of KD.\n",
    "\n",
    "1. First, train a **teacher network**.\n",
    "    This network is much more complicated than the **student network** that we wish to train in the end.\n",
    "2. Freeze the teacher network, and generate some inputs.\n",
    "3. Use the frozen teacher network and inputs to generate some target outputs.\n",
    "4. Use the input and output pairs to train the student network in a supervised manner."
   ]
  }
 ],
 "metadata": {
  "kernelspec": {
   "display_name": "Python 3 (ipykernel)",
   "language": "python",
   "name": "python3"
  },
  "language_info": {
   "codemirror_mode": {
    "name": "ipython",
    "version": 3
   },
   "file_extension": ".py",
   "mimetype": "text/x-python",
   "name": "python",
   "nbconvert_exporter": "python",
   "pygments_lexer": "ipython3",
   "version": "3.9.5"
  }
 },
 "nbformat": 4,
 "nbformat_minor": 2
}
