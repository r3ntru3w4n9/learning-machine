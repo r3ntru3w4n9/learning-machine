{
 "cells": [
  {
   "cell_type": "markdown",
   "id": "cubic-spectrum",
   "metadata": {},
   "source": [
    "# Transfer Learning vs Domain Adaptation"
   ]
  },
  {
   "cell_type": "markdown",
   "id": "opponent-powder",
   "metadata": {},
   "source": [
    "## Transfer learning definition.\n",
    "\n",
    "Transfer learning focuses on storing knowledge gained while solving one problem and applying it to a different but related problem. For example, knowledge gained while learning to recognize cars could apply when trying to recognize trucks.\n",
    "\n",
    "-- Wikipedia"
   ]
  },
  {
   "cell_type": "markdown",
   "id": "hydraulic-bones",
   "metadata": {},
   "source": [
    "## Domain adaptation definition.\n",
    "\n",
    "Domain adaptation is used when we aim at learning from a source data distribution, a well performing model on a different (but related) target data distribution. For example, an algorithm trained on news-wires might have to adapt to a new dataset of biomedical documents.\n",
    "\n",
    "-- Wikipedia"
   ]
  },
  {
   "cell_type": "markdown",
   "id": "minus-apparatus",
   "metadata": {},
   "source": [
    "## In simple terms.\n",
    "\n",
    "See the difference? Transfer learning is used when you want to _transfer_ the knowledge of a model over to another model, while domain adaptation is used when you want to _adapt_ a model to what it has never seen before. Transfer learning is about keeping what a model knows, and domain adaptation is more about making a model work in a new environment."
   ]
  }
 ],
 "metadata": {
  "kernelspec": {
   "display_name": "Python 3",
   "language": "python",
   "name": "python3"
  },
  "language_info": {
   "codemirror_mode": {
    "name": "ipython",
    "version": 3
   },
   "file_extension": ".py",
   "mimetype": "text/x-python",
   "name": "python",
   "nbconvert_exporter": "python",
   "pygments_lexer": "ipython3",
   "version": "3.9.6"
  }
 },
 "nbformat": 4,
 "nbformat_minor": 5
}
