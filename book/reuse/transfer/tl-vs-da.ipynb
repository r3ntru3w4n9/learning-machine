{
 "cells": [
  {
   "cell_type": "markdown",
   "id": "270b6b05",
   "metadata": {},
   "source": [
    "# Transfer Learning vs Domain Adaptation"
   ]
  },
  {
   "cell_type": "markdown",
   "id": "c36d380c",
   "metadata": {},
   "source": [
    "## How is TL different from DA?\n",
    "\n",
    "In the previous section, we have introduced TL and DA as if they are the same thing. While there are some arguments whether DA is a part of TL, we lean towards treating them as cousins, similar, but different."
   ]
  },
  {
   "cell_type": "markdown",
   "id": "16b35af8",
   "metadata": {},
   "source": [
    "## Transfer learning definition.\n",
    "\n",
    "Transfer learning focuses on storing knowledge gained while solving one problem and applying it to a different but related problem. For example, knowledge gained while learning to recognize cars could apply when trying to recognize trucks.\n",
    "\n",
    "-- Wikipedia"
   ]
  },
  {
   "cell_type": "markdown",
   "id": "d99f285f",
   "metadata": {},
   "source": [
    "## Domain adaptation definition.\n",
    "\n",
    "Domain adaptation is used when we aim at learning from a source data distribution, a well performing model on a different (but related) target data distribution. For example, an algorithm trained on news-wires might have to adapt to a new dataset of biomedical documents.\n",
    "\n",
    "-- Wikipedia"
   ]
  },
  {
   "cell_type": "markdown",
   "id": "5d5469bf",
   "metadata": {},
   "source": [
    "## In simple terms.\n",
    "\n",
    "See the difference? Transfer learning is used when you want to _transfer_ the knowledge of a model over to another model, while domain adaptation is used when you want to _adapt_ a model to what it has never seen before. Transfer learning is about keeping what a model knows, and domain adaptation is more about making a model work in a new environment.\n",
    "\n",
    "**In other words, in DA the input distribution changes but the labels remain the same; in TL, the input distributions stays the same, but the labels change.**"
   ]
  }
 ],
 "metadata": {
  "kernelspec": {
   "display_name": "Python 3 (ipykernel)",
   "language": "python",
   "name": "python3"
  },
  "language_info": {
   "codemirror_mode": {
    "name": "ipython",
    "version": 3
   },
   "file_extension": ".py",
   "mimetype": "text/x-python",
   "name": "python",
   "nbconvert_exporter": "python",
   "pygments_lexer": "ipython3",
   "version": "3.9.5"
  }
 },
 "nbformat": 4,
 "nbformat_minor": 5
}
