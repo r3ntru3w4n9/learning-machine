{
 "cells": [
  {
   "cell_type": "markdown",
   "metadata": {},
   "source": [
    "# Loss Function"
   ]
  },
  {
   "cell_type": "markdown",
   "metadata": {},
   "source": [
    "## The need for loss functions\n",
    "\n",
    "Students take exams to evaluate how well they learn in school. Employees are evaluated by companies to see how they perform in their jobs. Thing is, sometimes we just need to know how good a person is in doing a certain task (learning/working). Loss functions are like exams to models. We use loss functions to evaluate models to tell how they perform individually. This is used to rank different models because we care only about the best models. It's a cruel world for models!"
   ]
  },
  {
   "cell_type": "markdown",
   "metadata": {},
   "source": [
    "## What exactly is a loss function?\n",
    "\n",
    "A loss function takes in the decision made by a model, and returns a scalar. Usually in the context of deep learning, the smaller the scalar is, the better the model performs. We call this scalar **loss**."
   ]
  }
 ],
 "metadata": {
  "kernelspec": {
   "display_name": "Python 3",
   "language": "python",
   "name": "python3"
  },
  "language_info": {
   "codemirror_mode": {
    "name": "ipython",
    "version": 3
   },
   "file_extension": ".py",
   "mimetype": "text/x-python",
   "name": "python",
   "nbconvert_exporter": "python",
   "pygments_lexer": "ipython3",
   "version": "3.9.5"
  }
 },
 "nbformat": 4,
 "nbformat_minor": 2
}
