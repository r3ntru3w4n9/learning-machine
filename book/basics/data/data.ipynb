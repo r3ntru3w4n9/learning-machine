{
 "cells": [
  {
   "cell_type": "markdown",
   "source": [
    "# Data"
   ],
   "metadata": {}
  },
  {
   "cell_type": "markdown",
   "source": [
    "## Why do we need data?\n",
    "\n",
    "A person born blind can never understand light. A person born deaf will never know what music sounds like. The point is, as smart as humans are, we need real world data in order to know what real world looks like (Obviously, duh!). The same can be said for machines."
   ],
   "metadata": {}
  },
  {
   "cell_type": "markdown",
   "source": [
    "## What are data?\n",
    "\n",
    "Data can be anything that you know. Images, text, or even videos. Or just numbers. Data are there, so that machine knows what to learn.\n",
    "\n",
    "Usually when we are asking the machine to learn stuff, the data come in pairs. The input and the output. We call this supervised learning, because it's like telling the machine the right answers directly. There are cases where data are not pairs, we call this unsupervised learning. In the context of unsupervised learning, machines will have to figure out something based on the pattern in the given input. We'll talk about these topics later."
   ],
   "metadata": {}
  }
 ],
 "metadata": {
  "kernelspec": {
   "display_name": "Python 3",
   "language": "python",
   "name": "python3"
  },
  "language_info": {
   "codemirror_mode": {
    "name": "ipython",
    "version": 3
   },
   "file_extension": ".py",
   "mimetype": "text/x-python",
   "name": "python",
   "nbconvert_exporter": "python",
   "pygments_lexer": "ipython3",
   "version": "3.9.5"
  }
 },
 "nbformat": 4,
 "nbformat_minor": 2
}