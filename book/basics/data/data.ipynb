{
 "cells": [
  {
   "cell_type": "markdown",
   "metadata": {},
   "source": [
    "# Data"
   ]
  },
  {
   "cell_type": "markdown",
   "metadata": {},
   "source": [
    "## Why do we need data?\n",
    "\n",
    "A person born blind will never understand light. A person born deaf will never know what music sounds like. The point is, as smart as humans are, we need real world data in order to know what real world looks like (Obviously, duh!). The same can be said for machines."
   ]
  },
  {
   "cell_type": "markdown",
   "metadata": {},
   "source": [
    "## What are data?\n",
    "\n",
    "Data can be anything that you know. Images, text, or even videos. Or just numbers. Data are there, so that machine knows what to learn.\n",
    "\n",
    "When we ask machine to learn stuff, a common approach is we provide data that come in pairs (the input and the desired output). We call this supervised learning where we 'supervise' the machine with the correct answers. There are cases where data are not in pairs, we call this unsupervised learning. In unsupervised learning, machines have no idea what the desired output is. The machine will have to figure out something based on the pattern in the given input. We'll discuss about these topics later."
   ]
  }
 ],
 "metadata": {
  "kernelspec": {
   "display_name": "Python 3",
   "language": "python",
   "name": "python3"
  },
  "language_info": {
   "codemirror_mode": {
    "name": "ipython",
    "version": 3
   },
   "file_extension": ".py",
   "mimetype": "text/x-python",
   "name": "python",
   "nbconvert_exporter": "python",
   "pygments_lexer": "ipython3",
   "version": "3.9.5"
  }
 },
 "nbformat": 4,
 "nbformat_minor": 2
}
