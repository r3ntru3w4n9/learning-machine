{
 "cells": [
  {
   "cell_type": "markdown",
   "metadata": {},
   "source": [
    "# Model"
   ]
  },
  {
   "cell_type": "markdown",
   "metadata": {},
   "source": [
    "## Why do we need models?\n",
    "\n",
    "Humans use our brain to process and understand the world around us. Think about what a brain does. Firstly, it takes in some data, which we call senses, about our surroundings. The five human senses, sight, sound, smell, taste, touch. These are all data that our brain processes. Secondly, it makes some actions. Like our hands can respond to our will and our eyes can roll around to see what's to the side of us. Models are brains for machines. After all, we're building smart machines."
   ]
  },
  {
   "cell_type": "markdown",
   "metadata": {},
   "source": [
    "## What is a model?\n",
    "\n",
    "A model tries to mimic what a human does. So a model takes in some data (that it uses to make decisions), and outputs some other data (the decisions).\n",
    "\n",
    "A model is basically just a function that makes decisions for us. It takes in some input, and spits out the decision. Is the image a cat's image or a dog's image? The model will decide for us."
   ]
  }
 ],
 "metadata": {
  "kernelspec": {
   "display_name": "Python 3",
   "language": "python",
   "name": "python3"
  },
  "language_info": {
   "codemirror_mode": {
    "name": "ipython",
    "version": 3
   },
   "file_extension": ".py",
   "mimetype": "text/x-python",
   "name": "python",
   "nbconvert_exporter": "python",
   "pygments_lexer": "ipython3",
   "version": "3.9.5"
  }
 },
 "nbformat": 4,
 "nbformat_minor": 2
}
