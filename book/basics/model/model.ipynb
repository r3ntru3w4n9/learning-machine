{
 "cells": [
  {
   "cell_type": "markdown",
   "metadata": {},
   "source": [
    "# Model"
   ]
  },
  {
   "cell_type": "markdown",
   "metadata": {},
   "source": [
    "## Why do we need models?\n",
    "\n",
    "We use our brain to process and understand the world around us. Think about what a brain does. First, it takes in some data, which we call senses on our surroundings. The five human senses are sight, sound, smell, taste and touch. These are all data that our brain processes. Secondly, it performs some actions. Like our hands can respond to our will and our eyes can roll to see what's beside us. Models are brains for machines. After all, we're building smart machines."
   ]
  },
  {
   "cell_type": "markdown",
   "metadata": {},
   "source": [
    "## What is a model?\n",
    "\n",
    "A model mimics how human makes decisions. So a model takes in some data (that it uses to make decisions), and outputs some other data (the decisions).\n",
    "\n",
    "A model is basically a function that makes decisions. It takes in some input, and outputs some decision. Is the object a cat or a dog? The model will decide based on what it was trained on."
   ]
  }
 ],
 "metadata": {
  "kernelspec": {
   "display_name": "Python 3",
   "language": "python",
   "name": "python3"
  },
  "language_info": {
   "codemirror_mode": {
    "name": "ipython",
    "version": 3
   },
   "file_extension": ".py",
   "mimetype": "text/x-python",
   "name": "python",
   "nbconvert_exporter": "python",
   "pygments_lexer": "ipython3",
   "version": "3.9.5"
  }
 },
 "nbformat": 4,
 "nbformat_minor": 2
}
