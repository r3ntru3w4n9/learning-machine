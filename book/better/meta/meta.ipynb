{
 "cells": [
  {
   "cell_type": "markdown",
   "metadata": {},
   "source": [
    "# Meta Learning"
   ]
  },
  {
   "cell_type": "markdown",
   "metadata": {},
   "source": [
    "## What's meta learning?\n",
    "\n",
    "Meta means referring to oneself. Meta learning means learning, for learning. Or learning in order to learn better, or so on. Meta learning focuses on help models learn faster on the first run, training faster without needing to worry about bad things. Learning new things fast and efficient --- That's the realm of meta learning."
   ]
  },
  {
   "attachments": {},
   "cell_type": "markdown",
   "metadata": {},
   "source": [
    "## Difference with Life Long Learning.\n",
    "\n",
    "Life long learning refers to a model learning and adapting to different environments and datasets through out the lifespan of the model (not just when it's trained). So, how's that different from meta learning?Life long learning focuses on the improvement of new tasks with the same model, in contrast, meta learning hopes to learn a good initial model that can learn many tasks fast."
   ]
  },
  {
   "cell_type": "markdown",
   "metadata": {},
   "source": [
    "## How to meta learning?\n",
    "\n",
    "In traditional ML methods, we are given a lot of pairs of `input` and `target` data. To train a model, we initialize the model with some parameters, then _update the parameters towards the goal of minimization of the loss function between the target and the model's output._\n",
    "\n",
    "In meta learning however, instead of finding the global minimum right off the bat, we are searching for a location from which it's easy to find global minimum for each tasks. In other words, we are **pre-training** a model such that each sub-task can be trained really fast. For example, in _MAML_ and _Reptile_, two meta learning algorithms, models are updated towards minimizing each task, not just one single task in particular."
   ]
  }
 ],
 "metadata": {
  "kernelspec": {
   "display_name": "Python 3",
   "language": "python",
   "name": "python3"
  },
  "language_info": {
   "codemirror_mode": {
    "name": "ipython",
    "version": 3
   },
   "file_extension": ".py",
   "mimetype": "text/x-python",
   "name": "python",
   "nbconvert_exporter": "python",
   "pygments_lexer": "ipython3",
   "version": "3.9.6"
  }
 },
 "nbformat": 4,
 "nbformat_minor": 2
}
