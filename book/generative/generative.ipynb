{
 "cells": [
  {
   "cell_type": "markdown",
   "metadata": {},
   "source": [
    "# Generative Models"
   ]
  },
  {
   "source": [
    "## Why generative models?\n",
    "\n",
    "Humans can think of marvolous things. Look at Mozart's ability to create music, and Van Gough's prowess to paint! In machine learning words, we call these people **good generators**. They are able to generate stuff that are so good it's called art.\n",
    "\n",
    "Generative models strive to do the same for computers. It's very different from the normal classification/regression problem (even though the models still use them under the hood), because in classification/regression, you are reducing the input (an image, a voice command) to something simpler. For classification, it's a label. For regression, it's a handful of numbers. While generative models want to create output that are complicated, and real."
   ],
   "cell_type": "markdown",
   "metadata": {}
  },
  {
   "source": [
    "## How do generative models generate things?\n",
    "\n",
    "Well, since a computer generator can't live in its ivory tower and generate things because it would look like garbage to use, a few real world data have to be used to tell the machine what are good real world examples.\n",
    "\n",
    "In training the generator, we usually use several ways to *correct* the behavior of the model by providing incentive. For AE/VAE it's the reconstruction loss. For GAN it's the discriminator's loss. You don't need to know what it means yet, they will be introduced in the following sections, just have to bear in mind that even generative models require real world examples (contrary to common believes)."
   ],
   "cell_type": "markdown",
   "metadata": {}
  }
 ],
 "metadata": {
  "language_info": {
   "codemirror_mode": {
    "name": "ipython",
    "version": 3
   },
   "file_extension": ".py",
   "mimetype": "text/x-python",
   "name": "python",
   "nbconvert_exporter": "python",
   "pygments_lexer": "ipython3",
   "version": 3
  }
 },
 "nbformat": 4,
 "nbformat_minor": 2
}