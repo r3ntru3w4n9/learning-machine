{
 "cells": [
  {
   "cell_type": "markdown",
   "metadata": {},
   "source": [
    "# Embedding Layer"
   ]
  },
  {
   "cell_type": "markdown",
   "metadata": {},
   "source": [
    "## What do embedding layers do?\n",
    "\n",
    "Embedding layers convert a token (an integer) to a vector (a list of floating point numbers)."
   ]
  },
  {
   "cell_type": "markdown",
   "metadata": {},
   "source": [
    "## When to use embedding layers?\n",
    "\n",
    "When you want to process text. Text can be converted to integers, but because neural networks don't directly understand integers (because they are based on gradients, and you can't compute gradients on integers), you have to use embedding layers to convert those integers into a list of 'features'. For example, if one of the dimension shows how red the word is, then apple should score a lot higher than banana in that dimension."
   ]
  }
 ],
 "metadata": {
  "language_info": {
   "codemirror_mode": {
    "name": "ipython",
    "version": 3
   },
   "file_extension": ".py",
   "mimetype": "text/x-python",
   "name": "python",
   "nbconvert_exporter": "python",
   "pygments_lexer": "ipython3",
   "version": 3
  }
 },
 "nbformat": 4,
 "nbformat_minor": 2
}
