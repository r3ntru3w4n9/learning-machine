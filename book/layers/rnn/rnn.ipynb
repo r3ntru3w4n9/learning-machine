{
 "cells": [
  {
   "cell_type": "markdown",
   "metadata": {},
   "source": [
    "# Recurrent Layer"
   ]
  },
  {
   "cell_type": "markdown",
   "metadata": {},
   "source": [
    "```{note}\n",
    "A neural network that use recurrent layers is often called a RNN, a recurrent neural network.\n",
    "```"
   ]
  },
  {
   "source": [
    "## What do recurrent layers do?\n",
    "\n",
    "Recurrent layer transform an input many times. Everytime an input is transformed, the output is fed back into the recurrent layer to process again (with some new inputs)."
   ],
   "cell_type": "markdown",
   "metadata": {}
  },
  {
   "source": [
    "## When to use recurrent layers?\n",
    "\n",
    "Recurrent layers are really good at predicting what's happening next. Because it's like seeing all the past things and then predict the next thing that happens. We usually use it in sequence processing, whether that's text or voice or videos, anything that's time related."
   ],
   "cell_type": "markdown",
   "metadata": {}
  }
 ],
 "metadata": {
  "language_info": {
   "codemirror_mode": {
    "name": "ipython",
    "version": 3
   },
   "file_extension": ".py",
   "mimetype": "text/x-python",
   "name": "python",
   "nbconvert_exporter": "python",
   "pygments_lexer": "ipython3",
   "version": 3
  }
 },
 "nbformat": 4,
 "nbformat_minor": 2
}