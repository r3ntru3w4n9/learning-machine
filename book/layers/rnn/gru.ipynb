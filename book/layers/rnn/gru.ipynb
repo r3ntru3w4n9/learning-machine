{
 "metadata": {
  "language_info": {
   "codemirror_mode": {
    "name": "ipython",
    "version": 3
   },
   "file_extension": ".py",
   "mimetype": "text/x-python",
   "name": "python",
   "nbconvert_exporter": "python",
   "pygments_lexer": "ipython3",
   "version": 3
  },
  "orig_nbformat": 2
 },
 "nbformat": 4,
 "nbformat_minor": 2,
 "cells": [
  {
   "source": [
    "# Gated Linear Unit"
   ],
   "cell_type": "markdown",
   "metadata": {}
  },
  {
   "source": [
    "```{note}\n",
    "A gated linear unit is often abbreviated as a **GRU**. Not to be confused with the one in Despicable Me!\n",
    "```"
   ],
   "cell_type": "markdown",
   "metadata": {}
  },
  {
   "source": [
    "## What are GRUs?\n",
    "\n",
    "GRU is a special kind of recurrent layer. It allows some input to pass the 'gate', but transform the other parts. The mechanism is highly inspired by LSTMs."
   ],
   "cell_type": "markdown",
   "metadata": {}
  },
  {
   "source": [
    "## When to use GRUs?\n",
    "\n",
    "Gate linear units are a lot like LSTMs. It is much less complicated compare to LSTM, so it's often used as a cheap replacement to LSTMs. Its performance is not too shabby, and it trains a lot faster compared to similar sized LSTM networks."
   ],
   "cell_type": "markdown",
   "metadata": {}
  }
 ]
}