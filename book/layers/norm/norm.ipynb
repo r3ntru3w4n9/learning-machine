{
 "cells": [
  {
   "cell_type": "markdown",
   "source": [
    "# Normalization Layer"
   ],
   "metadata": {}
  },
  {
   "cell_type": "markdown",
   "source": [
    "\n",
    "```{note}\n",
    "We will refer to normalization layers as Norm layers.\n",
    "```"
   ],
   "metadata": {}
  },
  {
   "cell_type": "markdown",
   "source": [
    "## What do Norm layers do?\n",
    "\n",
    "Norm layers normalize the input. Normalization really helps stabelize training and improve training speed. Before norm layers are introduced, people had a very difficult time training huge models (big and deep) because of exploding/vanishing gradients, and normalization simply removes that issue mostly."
   ],
   "metadata": {}
  },
  {
   "cell_type": "markdown",
   "source": [
    "## When to use Norm layers?\n",
    "\n",
    "Almost always. If you want to train a big and deep neural network, remember to normalize your input."
   ],
   "metadata": {}
  }
 ],
 "metadata": {
  "language_info": {
   "codemirror_mode": {
    "name": "ipython",
    "version": 3
   },
   "file_extension": ".py",
   "mimetype": "text/x-python",
   "name": "python",
   "nbconvert_exporter": "python",
   "pygments_lexer": "ipython3",
   "version": 3
  }
 },
 "nbformat": 4,
 "nbformat_minor": 2
}