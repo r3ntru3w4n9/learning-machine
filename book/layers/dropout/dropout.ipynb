{
 "cells": [
  {
   "cell_type": "markdown",
   "source": [
    "# Dropout Layer"
   ],
   "metadata": {}
  },
  {
   "cell_type": "markdown",
   "source": [
    "## What does dropout layers do?\n",
    "\n",
    "Dropout layers throw things away. Now you would be asking, why would I want my model to throw data away? It turns out that throwing things away when training a model can drastically improve a model's performance in testing (where data is not throw away)."
   ],
   "metadata": {}
  },
  {
   "cell_type": "markdown",
   "source": [
    "## When to use dropout layers?\n",
    "\n",
    "When you feel like your model is overfitting the input, makes the probability of dropping out higher. Often you dropout as much as possible because dropout usually makes a model more robust to noisy inputs."
   ],
   "metadata": {}
  }
 ],
 "metadata": {
  "language_info": {
   "codemirror_mode": {
    "name": "ipython",
    "version": 3
   },
   "file_extension": ".py",
   "mimetype": "text/x-python",
   "name": "python",
   "nbconvert_exporter": "python",
   "pygments_lexer": "ipython3",
   "version": 3
  }
 },
 "nbformat": 4,
 "nbformat_minor": 2
}