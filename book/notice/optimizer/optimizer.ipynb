{
 "cells": [
  {
   "cell_type": "markdown",
   "id": "6073b93d",
   "metadata": {},
   "source": [
    "# Optimizer"
   ]
  },
  {
   "cell_type": "markdown",
   "id": "f7f391dd",
   "metadata": {},
   "source": [
    "## What are optimizers?\n",
    "\n",
    "Optimizers are responsible for making the updates to your model. A good optimizer can help your model converge faster by using momemtum to roll past terrain where gradients are small, while not skipping the convergence point. A good optmizing strategy is essential in trainig effectively."
   ]
  }
 ],
 "metadata": {
  "kernelspec": {
   "display_name": "Python 3",
   "language": "python",
   "name": "python3"
  },
  "language_info": {
   "codemirror_mode": {
    "name": "ipython",
    "version": 3
   },
   "file_extension": ".py",
   "mimetype": "text/x-python",
   "name": "python",
   "nbconvert_exporter": "python",
   "pygments_lexer": "ipython3",
   "version": "3.9.6"
  }
 },
 "nbformat": 4,
 "nbformat_minor": 5
}
