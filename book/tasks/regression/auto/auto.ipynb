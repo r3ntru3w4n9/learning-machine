{
 "cells": [
  {
   "cell_type": "markdown",
   "metadata": {},
   "source": [
    "# Auto Regression"
   ]
  },
  {
   "cell_type": "markdown",
   "metadata": {},
   "source": [
    "## What does auto-regression mean?\n",
    "\n",
    "Auto regression refers to predicting the next token in time-sequence models. Given many previous tokens, predict the next one. Given \"How are you\", predict \"today\". Now you may be wondering, why is it called auto-regression?\n",
    "\n",
    "Regression is the process of predicting a value y' for an unseen input x', given many pairs of (x, y). Auto-regressive model's name comes from regression, do it does something similar. It takes in a sequence and predicts one output. Naturally, it's the next token that's going to be appended to the sequence!"
   ]
  }
 ],
 "metadata": {
  "kernelspec": {
   "display_name": "Python 3",
   "language": "python",
   "name": "python3"
  },
  "language_info": {
   "codemirror_mode": {
    "name": "ipython",
    "version": 3
   },
   "file_extension": ".py",
   "mimetype": "text/x-python",
   "name": "python",
   "nbconvert_exporter": "python",
   "pygments_lexer": "ipython3",
   "version": "3.9.5"
  }
 },
 "nbformat": 4,
 "nbformat_minor": 2
}
