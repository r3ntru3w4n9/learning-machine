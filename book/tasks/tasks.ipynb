{
 "cells": [
  {
   "cell_type": "markdown",
   "metadata": {},
   "source": [
    "# Types of tasks"
   ]
  },
  {
   "source": [
    "All problems in deep learning fall into the following two types."
   ],
   "cell_type": "markdown",
   "metadata": {}
  },
  {
   "source": [
    "## [Classification](./classification/classification)\n",
    "\n",
    "Classification asks a question: which one? Which type of animal is in your image? Which action is better?\n",
    "In classification problems, you choose from several labels."
   ],
   "cell_type": "markdown",
   "metadata": {}
  },
  {
   "source": [
    "## [Regression](./regression/regression)\n",
    "\n",
    "Regression asks another question: how much? What is the probability of raining tomorrow? How much do you think the stock is worth next year? (You probably shouldn't use a model to predict that) In regression problems, you guess a number (or several numbers)."
   ],
   "cell_type": "markdown",
   "metadata": {}
  }
 ],
 "metadata": {
  "language_info": {
   "codemirror_mode": {
    "name": "ipython",
    "version": 3
   },
   "file_extension": ".py",
   "mimetype": "text/x-python",
   "name": "python",
   "nbconvert_exporter": "python",
   "pygments_lexer": "ipython3",
   "version": 3
  }
 },
 "nbformat": 4,
 "nbformat_minor": 2
}