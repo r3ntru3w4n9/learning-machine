{
 "cells": [
  {
   "cell_type": "markdown",
   "metadata": {},
   "source": [
    "# Classification"
   ]
  },
  {
   "cell_type": "markdown",
   "metadata": {},
   "source": [
    "## Why classification?\n",
    "\n",
    "There are many times where you have to make a decision. Either A or B. Either Emily or Tom (It's 2021. It's ok to be bisexual). This either ... or ... theme is the heart of classification problems."
   ]
  },
  {
   "cell_type": "markdown",
   "metadata": {},
   "source": [
    "## How does classification work?\n",
    "\n",
    "Let's say we are classifying an image. The image is said to be either a cat or a dog. But which one? If we are given the information that there are only black cats and white dogs in the image, we would probably apply a heuristic saying that if the object in the image is bright, then it's likely a dog. If it's dark then it's a cat. In machine words, if the image's average is bright (assuming that the cat/dog will occupy the majority of the image), then it's a dog. Or else it's a cat.\n",
    "\n",
    "What we did above is basically mapping from an image to 2 labels, cat and dog. This is how all models solving classification problem work. If you can find a model that maps the input image (or sound or anything) to your desired label, then it's a good classifier."
   ]
  }
 ],
 "metadata": {
  "language_info": {
   "codemirror_mode": {
    "name": "ipython",
    "version": 3
   },
   "file_extension": ".py",
   "mimetype": "text/x-python",
   "name": "python",
   "nbconvert_exporter": "python",
   "pygments_lexer": "ipython3",
   "version": 3
  }
 },
 "nbformat": 4,
 "nbformat_minor": 2
}
