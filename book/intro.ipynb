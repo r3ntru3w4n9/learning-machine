{
 "cells": [
  {
   "cell_type": "markdown",
   "metadata": {},
   "source": [
    "# Introduction"
   ]
  },
  {
   "cell_type": "markdown",
   "metadata": {},
   "source": [
    "```{seealso}\n",
    "This book accompanies [Machine Learning with Hung-Yi Lee](https://speech.ee.ntu.edu.tw/~hylee/ml/2021-spring.html). Check it out!\n",
    "```"
   ]
  },
  {
   "cell_type": "markdown",
   "metadata": {},
   "source": [
    "## Why this Book?\n",
    "\n",
    "There are many resources for machine learning on the internet. However, most of them are either\n",
    "\n",
    "1. Too long. It takes half an hour just to read through.\n",
    "\n",
    "2. Too math heavy. It takes you forever to understand.\n",
    "\n",
    "3. Too confusing. The concepts are not strait-forward.\n",
    "\n",
    "This book aims to solve all of that. It tries to be as concise but easy to grasp as possible."
   ]
  },
  {
   "cell_type": "markdown",
   "metadata": {},
   "source": [
    "## What is this book?\n",
    "\n",
    "This book is for learners who want to quickly grasp an idea, without diving deep into a topic (it takes way too long!). The book is a handbook for people who want to preserve their time."
   ]
  },
  {
   "cell_type": "markdown",
   "metadata": {},
   "source": [
    "## How to use this book?\n",
    "\n",
    "Don't use this book as a reference, use it as a handbook instead. We'll cover all the basics.\n"
   ]
  },
  {
   "cell_type": "markdown",
   "metadata": {},
   "source": [
    "## Befor we start\n",
    "\n",
    "In this book, we're mainly focused on deep learning, which is a branch of machine learning that leverages of a lot of computing power and yield incredible result. Sometimes it's called artificial intelligence."
   ]
  },
  {
   "cell_type": "markdown",
   "metadata": {},
   "source": [
    "```{note}\n",
    "AI (artificial intelligence), ML (machine learning), DL (deep learning). This book use these terms interchangeably. They are not equal terms outside of this book, however, in the subset we cover in this book they can be seen as equal.\n",
    "```"
   ]
  },
  {
   "cell_type": "markdown",
   "metadata": {},
   "source": [
    "## Why learn machine?\n",
    "\n",
    "There are many reason to learn machine. The most obvious reason is that machine learning is quite powerful and useful, and many systems use it ranging from Google's search to snapchat filters. Secondly, it's quite the rage nowadays, so it certainly would help you in landing a prestigious job. Thirdly, in the case where robots take over the world (like Elon Musk feared), having learned machines' ways of dealing things may be your only path to survival! Jokes aside, learning machine does help to calm your nerves since most of the theories on the Internet about robots are just over the top. And learning machine helps preventing you from being tricked by those deceptive information.\n"
   ]
  }
 ],
 "metadata": {
  "kernelspec": {
   "display_name": "Python 3",
   "language": "python",
   "name": "python3"
  },
  "language_info": {
   "codemirror_mode": {
    "name": "ipython",
    "version": 3
   },
   "file_extension": ".py",
   "mimetype": "text/x-python",
   "name": "python",
   "nbconvert_exporter": "python",
   "pygments_lexer": "ipython3",
   "version": "3.9.5"
  }
 },
 "nbformat": 4,
 "nbformat_minor": 2
}
