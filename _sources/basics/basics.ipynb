{
 "cells": [
  {
   "cell_type": "markdown",
   "metadata": {},
   "source": [
    "# Holy Trinity for Machine Learning"
   ]
  },
  {
   "cell_type": "markdown",
   "metadata": {},
   "source": [
    "## I want to do machine learning. How?\n",
    "\n",
    "Machine learning systems may look very different, but under the hood, every machine learning system are made up of three essential parts."
   ]
  },
  {
   "cell_type": "markdown",
   "metadata": {},
   "source": [
    "### [Data](./data/data)\n",
    "\n",
    "We are talking about machine _learning_. Without data, what's there to learn?"
   ]
  },
  {
   "cell_type": "markdown",
   "metadata": {},
   "source": [
    "### [Model](./model/model)\n",
    "\n",
    "The task of machine learning is to have machines to make decisions for us. Without a model to do these, who will make the decision?"
   ]
  },
  {
   "cell_type": "markdown",
   "metadata": {},
   "source": [
    "### [Loss](./loss/loss)\n",
    "\n",
    "Whether it's playing a game or driving a car, we want our model to perform well on a task. You have some data, and a model to make predictions based on the inputs. You need to measure how good your model is. Without loss functions, you do not know how well your model performs."
   ]
  }
 ],
 "metadata": {
  "kernelspec": {
   "display_name": "Python 3",
   "language": "python",
   "name": "python3"
  },
  "language_info": {
   "codemirror_mode": {
    "name": "ipython",
    "version": 3
   },
   "file_extension": ".py",
   "mimetype": "text/x-python",
   "name": "python",
   "nbconvert_exporter": "python",
   "pygments_lexer": "ipython3",
   "version": "3.9.5"
  }
 },
 "nbformat": 4,
 "nbformat_minor": 2
}
