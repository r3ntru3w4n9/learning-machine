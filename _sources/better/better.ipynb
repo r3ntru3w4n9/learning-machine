{
 "cells": [
  {
   "cell_type": "markdown",
   "metadata": {},
   "source": [
    "# Improvements to a model"
   ]
  },
  {
   "cell_type": "markdown",
   "metadata": {},
   "source": [
    "## Areas to improve\n",
    "\n",
    "Now we know how to train a model. However, machine learning is so much more than training. How to train super fast on unseen data? How to make the model trained extremely small to fit in mobile devices? How to make a model perform well on multiple different domains? And how to explain how your model makes prediction?\n",
    "\n",
    "In this section we will walk over these questions and show you that, yes, we can make the model even better!"
   ]
  },
  {
   "cell_type": "markdown",
   "metadata": {},
   "source": [
    "### [Meta learning](./meta/meta)\n",
    "\n",
    "It doesn't get any easier, you just have to get faster."
   ]
  },
  {
   "cell_type": "markdown",
   "metadata": {},
   "source": [
    "### [Model compression](./compression/compression)\n",
    "\n",
    "It's not about being small, it's about doing more with less."
   ]
  },
  {
   "cell_type": "markdown",
   "metadata": {},
   "source": [
    "### [Life long learning](./lll/lll)\n",
    "\n",
    "Wisdom is not a product of school but of the life long attempt to acquire it."
   ]
  },
  {
   "cell_type": "markdown",
   "metadata": {},
   "source": [
    "### [Explainable AI](./explainable/explainable)\n",
    "\n",
    "Sometimes being understanding is more important than being right..."
   ]
  }
 ],
 "metadata": {
  "kernelspec": {
   "display_name": "Python 3",
   "language": "python",
   "name": "python3"
  },
  "language_info": {
   "codemirror_mode": {
    "name": "ipython",
    "version": 3
   },
   "file_extension": ".py",
   "mimetype": "text/x-python",
   "name": "python",
   "nbconvert_exporter": "python",
   "pygments_lexer": "ipython3",
   "version": "3.9.5"
  }
 },
 "nbformat": 4,
 "nbformat_minor": 2
}
