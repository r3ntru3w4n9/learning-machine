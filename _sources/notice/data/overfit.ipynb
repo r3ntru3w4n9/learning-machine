{
 "cells": [
  {
   "cell_type": "markdown",
   "metadata": {},
   "source": [
    "# Overfit"
   ]
  },
  {
   "cell_type": "markdown",
   "metadata": {},
   "source": [
    "## What happens when a model overfit?\n",
    "\n",
    "An overfitting model seems to perform really well when you train it. In training it yields very small losses. However, it may perform terribly when evaluating the data."
   ]
  },
  {
   "cell_type": "markdown",
   "metadata": {},
   "source": [
    "## When does overfitting happen?\n",
    "\n",
    "Generally speaking, the more data you have, the bigger model you'll be using. Overfitting happens when you don't have enough data for your model. Or your model is too big for the task."
   ]
  },
  {
   "cell_type": "markdown",
   "metadata": {},
   "source": [
    "## How to deal with overfitting?"
   ]
  },
  {
   "cell_type": "markdown",
   "metadata": {},
   "source": [
    "### Add data.\n",
    "\n",
    "Overfitting happens when data is too few relative to model size. So adding data will help."
   ]
  },
  {
   "cell_type": "markdown",
   "metadata": {},
   "source": [
    "### Reduce model size."
   ]
  },
  {
   "cell_type": "markdown",
   "metadata": {},
   "source": [
    "#### Reduce the hyper-parameters of the model.\n",
    "\n",
    "Making the model smaller will definitely help with solving overfitting. However, this is not a practical solution because to reduce the model's hyper-parameters, the model will have to be re-trained in the process, and that's a lot of computing power!"
   ]
  },
  {
   "cell_type": "markdown",
   "metadata": {},
   "source": [
    "#### Regularization.\n",
    "p\n",
    "Regularization is a technique to make a model smaller than it is. Regularization makes the model smaller by paralyzing part of the model. For example: dropout layers purposefully drops out part of the model's inner layer output to make the inner layers appear smaller. L1 and L2 regularization induced penalties on big weights and encourages weights to go to zero so that the inner layer's effective nodes are reduced (zero stops the data from flowing)."
   ]
  }
 ],
 "metadata": {
  "kernelspec": {
   "display_name": "Python 3",
   "language": "python",
   "name": "python3"
  },
  "language_info": {
   "codemirror_mode": {
    "name": "ipython",
    "version": 3
   },
   "file_extension": ".py",
   "mimetype": "text/x-python",
   "name": "python",
   "nbconvert_exporter": "python",
   "pygments_lexer": "ipython3",
   "version": "3.9.6"
  }
 },
 "nbformat": 4,
 "nbformat_minor": 2
}
