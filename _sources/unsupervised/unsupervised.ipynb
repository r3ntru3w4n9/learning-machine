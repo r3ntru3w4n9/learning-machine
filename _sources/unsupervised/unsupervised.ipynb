{
 "cells": [
  {
   "cell_type": "markdown",
   "metadata": {},
   "source": [
    "# Unsupervised Learning"
   ]
  },
  {
   "cell_type": "markdown",
   "metadata": {},
   "source": [
    "## Unsupervised learning?\n",
    "\n",
    "Most methods we cover are supervised learning. Supervised learning refers to using the dataset where the training data and their labels are both present. Unsupervised methods, on the other hand, do not use labels. They find out traits in different parts of the dataset all by themselves."
   ]
  },
  {
   "cell_type": "markdown",
   "metadata": {},
   "source": [
    "## Most common unsupervised methods"
   ]
  },
  {
   "cell_type": "markdown",
   "metadata": {},
   "source": [
    "### [Clustering](./clustering/clustering)\n",
    "\n",
    "Clustering clusters the data entry that are close to each other together."
   ]
  },
  {
   "cell_type": "markdown",
   "metadata": {},
   "source": [
    "### [Decision tree](./decision-tree/decision-tree)\n",
    "\n",
    "Decision tree discriminate between different classes of points by making decisions."
   ]
  },
  {
   "cell_type": "markdown",
   "metadata": {},
   "source": [
    "### [Self supervised](./self-supervised/self-supervised)\n",
    "\n",
    "Self supervised methods usually refer to MLM (Masked Language Model) training."
   ]
  },
  {
   "cell_type": "markdown",
   "metadata": {},
   "source": [
    "### [Semi supervised](./semi-supervised/semi-supervised)\n",
    "\n",
    "Semi supervised methods are used when most data don't have labels but a small portion of the dataset does have labels."
   ]
  }
 ],
 "metadata": {
  "kernelspec": {
   "display_name": "Python 3",
   "language": "python",
   "name": "python3"
  },
  "language_info": {
   "codemirror_mode": {
    "name": "ipython",
    "version": 3
   },
   "file_extension": ".py",
   "mimetype": "text/x-python",
   "name": "python",
   "nbconvert_exporter": "python",
   "pygments_lexer": "ipython3",
   "version": "3.9.6"
  }
 },
 "nbformat": 4,
 "nbformat_minor": 2
}
