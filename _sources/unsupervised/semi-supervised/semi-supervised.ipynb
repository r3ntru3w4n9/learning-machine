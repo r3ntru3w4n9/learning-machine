{
 "cells": [
  {
   "cell_type": "markdown",
   "id": "catholic-champagne",
   "metadata": {},
   "source": [
    "# Semi Supervised Training"
   ]
  },
  {
   "cell_type": "markdown",
   "id": "intellectual-broadcasting",
   "metadata": {},
   "source": [
    "## How is semi-supervised training different from unsupervised training?\n",
    "\n",
    "Semi-supervised methods refers to training on a dataset in which only a little portion have labels while most of the data remain unlabeled. Usually these methods train like a supervised model on labeled data, and performing auxiliary updates on unlabeled data."
   ]
  }
 ],
 "metadata": {
  "kernelspec": {
   "display_name": "Python 3",
   "language": "python",
   "name": "python3"
  },
  "language_info": {
   "codemirror_mode": {
    "name": "ipython",
    "version": 3
   },
   "file_extension": ".py",
   "mimetype": "text/x-python",
   "name": "python",
   "nbconvert_exporter": "python",
   "pygments_lexer": "ipython3",
   "version": "3.9.6"
  }
 },
 "nbformat": 4,
 "nbformat_minor": 5
}
